{
  "nbformat": 4,
  "nbformat_minor": 0,
  "metadata": {
    "colab": {
      "provenance": []
    },
    "kernelspec": {
      "name": "python3",
      "display_name": "Python 3"
    },
    "language_info": {
      "name": "python"
    }
  },
  "cells": [
    {
      "cell_type": "markdown",
      "source": [
        "# **Challange 1**"
      ],
      "metadata": {
        "id": "jtHpZFjUNEUr"
      }
    },
    {
      "cell_type": "markdown",
      "source": [
        "**Due: October 21st**"
      ],
      "metadata": {
        "id": "ceQFJ6roNOTI"
      }
    },
    {
      "cell_type": "markdown",
      "source": [
        "# Design of four-qubit cluster states\n",
        "In quantum information and computing, a cluster state refers to a highly entangled multi-qubit state. These states are typically generated on a lattice of qubits through Ising-type interactions. Alternatively, cluster states can be viewed as a special case of graph states, where the underlying graph corresponds to a connected subset of a d-dimensional lattice. Cluster states play a central role in one-way (measurement-based) quantum computation.\n",
        "\n",
        "In this challenge, your task is to design a four-qubit cluster state similar to the one introduced in [Workshop (1) solutions here](https://colab.research.google.com/drive/1TUmX1xVGYip2wn0-tCB4uXRlxSbeI4me?usp=sharing).\n",
        "\n",
        "A draft code is provided below for you to complete — please fill in the sections marked with '### WRITE YOUR CODE BELOW HERE ###'.\n",
        "\n",
        "Make sure you have completed the IBMid account setup and have your API key and CRN code ready.\n",
        "\n",
        "Hint: A cluster state has 4 CNOT gates (or CZ gates) to entangle adjacent qubits, i.e., (0, 1), (1,2), (2,3)\n",
        "\n",
        "Good luck!"
      ],
      "metadata": {
        "id": "55EkLPBULZrC"
      }
    },
    {
      "cell_type": "markdown",
      "source": [
        "# Installation and Imports"
      ],
      "metadata": {
        "id": "gY3XYkZOLsBw"
      }
    },
    {
      "cell_type": "code",
      "execution_count": null,
      "metadata": {
        "id": "2A-55lbkJA4i"
      },
      "outputs": [],
      "source": [
        "%pip install qiskit\n",
        "%pip install qiskit-ibm-runtime\n",
        "%pip install \"qc-grader[qiskit,jupyter] @ git+https://github.com/qiskit-community/Quantum-Challenge-Grader.git\""
      ]
    },
    {
      "cell_type": "code",
      "source": [
        "# Save your API key to track your progress and have access to the quantum computers\n",
        "\n",
        "#your_api_key = \"deleteThisAndPasteYourAPIKeyHere\"\n",
        "#your_crn = \"deleteThisAndPasteYourCRNHere\"\n",
        "\n",
        "from qiskit_ibm_runtime import QiskitRuntimeService\n",
        "\n",
        "QiskitRuntimeService.save_account(\n",
        "    channel=\"ibm_quantum_platform\",\n",
        "    token=your_api_key,\n",
        "    instance=your_crn,\n",
        "    name=\"QFF_2025\",\n",
        "    overwrite=True\n",
        ")\n"
      ],
      "metadata": {
        "id": "xsY_vAXDO9V5"
      },
      "execution_count": null,
      "outputs": []
    },
    {
      "cell_type": "code",
      "source": [
        "import qiskit\n",
        "print(f\"Qiskit version: {qiskit.__version__}\")\n",
        "\n",
        "import matplotlib.pyplot as plt\n",
        "from qiskit import QuantumCircuit, generate_preset_pass_manager\n",
        "from qiskit.visualization import plot_histogram\n",
        "from qiskit.quantum_info import SparsePauliOp\n",
        "from qiskit_ibm_runtime import QiskitRuntimeService, SamplerV2 as Sampler, EstimatorV2 as Estimator\n",
        "from qiskit_aer import AerSimulator"
      ],
      "metadata": {
        "colab": {
          "base_uri": "https://localhost:8080/"
        },
        "id": "Tp2TUHeXOxOp",
        "outputId": "b05323e8-7409-4ba1-bfe8-612100c01792"
      },
      "execution_count": null,
      "outputs": [
        {
          "output_type": "stream",
          "name": "stdout",
          "text": [
            "Qiskit version: 2.1.2\n"
          ]
        }
      ]
    },
    {
      "cell_type": "markdown",
      "source": [
        "# Step 1. Map"
      ],
      "metadata": {
        "id": "Qyl40YaiTEmA"
      }
    },
    {
      "cell_type": "code",
      "source": [
        "# Create a new circuit with four qubits\n",
        "qc = QuantumCircuit(4)\n",
        "\n",
        "# Step 1: Apply Hadamard gates to all qubits to create superposition\n",
        "for i in range(4):\n",
        "    qc.h(i)\n",
        "\n",
        "# Step 2: Apply CNOT gates (or CZ gates) to entangle adjacent qubits, i.e, qc.cz(0,1),...\n",
        "### WRITE YOUR CODE BELOW HERE ###\n",
        "\n",
        "\n",
        "### YOUR CODE FINISHES HERE    ###\n",
        "\n",
        "# Step 3: Draw the circuit using Matplotlib\n",
        "qc.draw(\"mpl\")"
      ],
      "metadata": {
        "id": "YNuZgQPmSWt3"
      },
      "execution_count": null,
      "outputs": []
    },
    {
      "cell_type": "markdown",
      "source": [
        "# Optimize"
      ],
      "metadata": {
        "id": "-TbHcSLITJ0P"
      }
    },
    {
      "cell_type": "markdown",
      "source": [
        "We are constrained to interactions that do not include the connection between qubits 1 and 2. Your task is to modify the circuit to eliminate the interaction between qubits 1 and 2."
      ],
      "metadata": {
        "id": "8le92BVMTixO"
      }
    },
    {
      "cell_type": "code",
      "source": [
        "# Write the coupling map of connections between qubits that elimnates the connection between 1 and 2 as a list of pairs: [[0,1],...]\n",
        "\n",
        "### WRITE YOUR CODE BELOW HERE ###\n",
        "coupling_map =\n",
        "# Transpile the quantum circuit `qc` using the `generate_preset_pass_manager` function and the `coupling_map` list\n",
        "pm = generate_preset_pass_manager()\n",
        "### YOUR CODE FINISHES HERE    ###\n",
        "\n",
        "qc_transpiled = pm.run(qc)\n",
        "qc_transpiled.draw(\"mpl\")"
      ],
      "metadata": {
        "id": "fpdHVi3fU_47"
      },
      "execution_count": null,
      "outputs": []
    }
  ]
}